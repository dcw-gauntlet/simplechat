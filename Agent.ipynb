{
 "cells": [
  {
   "cell_type": "code",
   "execution_count": 121,
   "metadata": {},
   "outputs": [],
   "source": [
    "from typing import Annotated, Literal, TypedDict, List\n",
    "\n",
    "from langchain_core.messages import HumanMessage\n",
    "from langchain_openai import ChatOpenAI\n",
    "from langchain_core.tools import tool\n",
    "from langgraph.checkpoint.memory import MemorySaver\n",
    "from langgraph.graph import END, START, StateGraph, MessagesState\n",
    "from langgraph.prebuilt import ToolNode\n",
    "\n",
    "from pydantic import BaseModel\n",
    "\n",
    "\n",
    "from dotenv import load_dotenv\n",
    "\n",
    "from DataLayer import DataLayer\n",
    "\n",
    "import os\n",
    "import random"
   ]
  },
  {
   "cell_type": "code",
   "execution_count": 8,
   "metadata": {},
   "outputs": [
    {
     "data": {
      "text/plain": [
       "True"
      ]
     },
     "execution_count": 8,
     "metadata": {},
     "output_type": "execute_result"
    }
   ],
   "source": [
    "load_dotenv()"
   ]
  },
  {
   "cell_type": "code",
   "execution_count": 142,
   "metadata": {},
   "outputs": [
    {
     "name": "stdout",
     "output_type": "stream",
     "text": [
      "Successfully connected to the database. 12 users found.\n"
     ]
    }
   ],
   "source": [
    "dl = DataLayer()"
   ]
  },
  {
   "cell_type": "code",
   "execution_count": 153,
   "metadata": {},
   "outputs": [
    {
     "data": {
      "text/plain": [
       "['__class__',\n",
       " '__del__',\n",
       " '__delattr__',\n",
       " '__dict__',\n",
       " '__dir__',\n",
       " '__doc__',\n",
       " '__eq__',\n",
       " '__format__',\n",
       " '__ge__',\n",
       " '__getattribute__',\n",
       " '__getstate__',\n",
       " '__gt__',\n",
       " '__hash__',\n",
       " '__init__',\n",
       " '__init_subclass__',\n",
       " '__le__',\n",
       " '__lt__',\n",
       " '__module__',\n",
       " '__ne__',\n",
       " '__new__',\n",
       " '__reduce__',\n",
       " '__reduce_ex__',\n",
       " '__repr__',\n",
       " '__setattr__',\n",
       " '__sizeof__',\n",
       " '__str__',\n",
       " '__subclasshook__',\n",
       " '__weakref__',\n",
       " 'add_channel',\n",
       " 'add_channel_membership',\n",
       " 'add_chunks',\n",
       " 'add_message',\n",
       " 'add_thread',\n",
       " 'add_user',\n",
       " 'conn_string',\n",
       " 'create_channel',\n",
       " 'get_associated_files',\n",
       " 'get_channel',\n",
       " 'get_channel_by_id',\n",
       " 'get_channel_by_name',\n",
       " 'get_channel_messages',\n",
       " 'get_channels_for_user',\n",
       " 'get_file',\n",
       " 'get_message',\n",
       " 'get_messages_by_user',\n",
       " 'get_messages_in_channel',\n",
       " 'get_my_channels',\n",
       " 'get_recent_messages',\n",
       " 'get_user',\n",
       " 'get_user_by_username',\n",
       " 'get_user_status',\n",
       " 'get_users_in_channel',\n",
       " 'join_channel',\n",
       " 'pool',\n",
       " 'save_file',\n",
       " 'search_channels',\n",
       " 'search_messages',\n",
       " 'send_message',\n",
       " 'similarity_search',\n",
       " 'similarity_search_in_channel',\n",
       " 'update_channel_members_count',\n",
       " 'update_message_reactions']"
      ]
     },
     "execution_count": 153,
     "metadata": {},
     "output_type": "execute_result"
    }
   ],
   "source": [
    "dir(dl)"
   ]
  },
  {
   "cell_type": "code",
   "execution_count": 152,
   "metadata": {},
   "outputs": [
    {
     "ename": "AttributeError",
     "evalue": "'DataLayer' object has no attribute 'get_messages_for_users'",
     "output_type": "error",
     "traceback": [
      "\u001b[0;31m---------------------------------------------------------------------------\u001b[0m",
      "\u001b[0;31mAttributeError\u001b[0m                            Traceback (most recent call last)",
      "Cell \u001b[0;32mIn[152], line 1\u001b[0m\n\u001b[0;32m----> 1\u001b[0m \u001b[43mdl\u001b[49m\u001b[38;5;241;43m.\u001b[39;49m\u001b[43mget_messages_for_users\u001b[49m([\u001b[38;5;124m\"\u001b[39m\u001b[38;5;124mdavidrag\u001b[39m\u001b[38;5;124m\"\u001b[39m])\n",
      "\u001b[0;31mAttributeError\u001b[0m: 'DataLayer' object has no attribute 'get_messages_for_users'"
     ]
    }
   ],
   "source": [
    "dl.get_messages_for_users([\"davidrag\"])"
   ]
  },
  {
   "cell_type": "code",
   "execution_count": 143,
   "metadata": {},
   "outputs": [],
   "source": [
    "# Define the tools for the agent to use\n",
    "@tool\n",
    "def get_messages_for_users(usernames: List[str]):\n",
    "    \"\"\"Get all messages from specified users within an optional time frame.\"\"\"\n",
    "    return dl.get_messages_for_users(usernames)\n",
    "    \n",
    "\n",
    "\n",
    "tools = [get_messages_for_users]\n",
    "tool_node = ToolNode(tools)\n"
   ]
  },
  {
   "cell_type": "code",
   "execution_count": 144,
   "metadata": {},
   "outputs": [],
   "source": [
    "model = ChatOpenAI(\n",
    "    model=\"gpt-4o-mini\",\n",
    "    api_key=os.getenv(\"OPENAI_API_KEY2\"),\n",
    ").bind_tools(tools)\n"
   ]
  },
  {
   "cell_type": "code",
   "execution_count": 145,
   "metadata": {},
   "outputs": [],
   "source": [
    "\n",
    "\n",
    "# Define the function that calls the model\n",
    "def call_model(state: MessagesState):\n",
    "    messages = state['messages']\n",
    "    response = model.invoke(messages)\n",
    "    # We return a list, because this will get added to the existing list\n",
    "    return {\"messages\": [response]}\n",
    "\n"
   ]
  },
  {
   "cell_type": "code",
   "execution_count": 146,
   "metadata": {},
   "outputs": [],
   "source": [
    "def should_continue(state: MessagesState) -> Literal[\"tools\", END]:\n",
    "    last_message = state['messages'][-1]\n",
    "    print(last_message)\n",
    "    if last_message.tool_calls:\n",
    "        return \"tools\"\n",
    "    \n",
    "    return END\n"
   ]
  },
  {
   "cell_type": "code",
   "execution_count": 147,
   "metadata": {},
   "outputs": [],
   "source": [
    "workflow = StateGraph(MessagesState)\n",
    "\n",
    "workflow.add_node(\"agent\", call_model)\n",
    "workflow.add_node(\"tools\", tool_node)\n",
    "\n",
    "workflow.add_edge(START, \"agent\")\n",
    "workflow.add_edge(\"tools\", \"agent\")\n",
    "\n",
    "workflow.add_conditional_edges(\n",
    "    \"agent\",\n",
    "    should_continue,\n",
    ")\n",
    "\n",
    "checkpointer = MemorySaver()\n",
    "\n",
    "app = workflow.compile(checkpointer=checkpointer)\n",
    "\n",
    "\n"
   ]
  },
  {
   "cell_type": "code",
   "execution_count": 148,
   "metadata": {},
   "outputs": [],
   "source": [
    "checkpointer = MemorySaver()"
   ]
  },
  {
   "cell_type": "code",
   "execution_count": 149,
   "metadata": {},
   "outputs": [],
   "source": [
    "app = workflow.compile(checkpointer=checkpointer)"
   ]
  },
  {
   "cell_type": "code",
   "execution_count": 150,
   "metadata": {},
   "outputs": [
    {
     "name": "stdout",
     "output_type": "stream",
     "text": [
      "content='' additional_kwargs={'tool_calls': [{'id': 'call_wUbr1wXhkGkdbX981sd42xL4', 'function': {'arguments': '{\"usernames\":[\"davidrag\"]}', 'name': 'get_messages_for_users'}, 'type': 'function'}], 'refusal': None} response_metadata={'token_usage': {'completion_tokens': 21, 'prompt_tokens': 75, 'total_tokens': 96, 'completion_tokens_details': {'accepted_prediction_tokens': 0, 'audio_tokens': 0, 'reasoning_tokens': 0, 'rejected_prediction_tokens': 0}, 'prompt_tokens_details': {'audio_tokens': 0, 'cached_tokens': 0}}, 'model_name': 'gpt-4o-mini-2024-07-18', 'system_fingerprint': 'fp_72ed7ab54c', 'finish_reason': 'tool_calls', 'logprobs': None} id='run-0c468d3a-f866-462e-bb30-db8345ce4241-0' tool_calls=[{'name': 'get_messages_for_users', 'args': {'usernames': ['davidrag']}, 'id': 'call_wUbr1wXhkGkdbX981sd42xL4', 'type': 'tool_call'}] usage_metadata={'input_tokens': 75, 'output_tokens': 21, 'total_tokens': 96, 'input_token_details': {'audio': 0, 'cache_read': 0}, 'output_token_details': {'audio': 0, 'reasoning': 0}}\n",
      "content=\"It seems there was an error while trying to retrieve messages for the user 'davidrag'. Let me attempt to get that information again.\" additional_kwargs={'tool_calls': [{'id': 'call_aBAI65JxSdtyc2OB6OIxYw3B', 'function': {'arguments': '{\"usernames\":[\"davidrag\"]}', 'name': 'get_messages_for_users'}, 'type': 'function'}], 'refusal': None} response_metadata={'token_usage': {'completion_tokens': 51, 'prompt_tokens': 128, 'total_tokens': 179, 'completion_tokens_details': {'accepted_prediction_tokens': 0, 'audio_tokens': 0, 'reasoning_tokens': 0, 'rejected_prediction_tokens': 0}, 'prompt_tokens_details': {'audio_tokens': 0, 'cached_tokens': 0}}, 'model_name': 'gpt-4o-mini-2024-07-18', 'system_fingerprint': 'fp_bd83329f63', 'finish_reason': 'tool_calls', 'logprobs': None} id='run-71335582-9658-4e58-b81c-5ca108ef0d34-0' tool_calls=[{'name': 'get_messages_for_users', 'args': {'usernames': ['davidrag']}, 'id': 'call_aBAI65JxSdtyc2OB6OIxYw3B', 'type': 'tool_call'}] usage_metadata={'input_tokens': 128, 'output_tokens': 51, 'total_tokens': 179, 'input_token_details': {'audio': 0, 'cache_read': 0}, 'output_token_details': {'audio': 0, 'reasoning': 0}}\n",
      "content=\"It appears there's a persistent issue with retrieving messages for the user 'davidrag'. Unfortunately, I'm unable to access the messages at the moment. \\n\\nIf there's anything else you need or if you have another question, feel free to ask!\" additional_kwargs={'refusal': None} response_metadata={'token_usage': {'completion_tokens': 50, 'prompt_tokens': 213, 'total_tokens': 263, 'completion_tokens_details': {'accepted_prediction_tokens': 0, 'audio_tokens': 0, 'reasoning_tokens': 0, 'rejected_prediction_tokens': 0}, 'prompt_tokens_details': {'audio_tokens': 0, 'cached_tokens': 0}}, 'model_name': 'gpt-4o-mini-2024-07-18', 'system_fingerprint': 'fp_72ed7ab54c', 'finish_reason': 'stop', 'logprobs': None} id='run-0c57f1ba-d9e4-401a-bda3-0f957002c4fe-0' usage_metadata={'input_tokens': 213, 'output_tokens': 50, 'total_tokens': 263, 'input_token_details': {'audio': 0, 'cache_read': 0}, 'output_token_details': {'audio': 0, 'reasoning': 0}}\n"
     ]
    },
    {
     "data": {
      "text/plain": [
       "{'messages': [HumanMessage(content=\"Hey, can you check the messages for the user 'davidrag' and tell me what he's working on?\", additional_kwargs={}, response_metadata={}, id='41b3f6ce-c9ff-4288-98f8-6b85bbad1b8e'),\n",
       "  AIMessage(content='', additional_kwargs={'tool_calls': [{'id': 'call_wUbr1wXhkGkdbX981sd42xL4', 'function': {'arguments': '{\"usernames\":[\"davidrag\"]}', 'name': 'get_messages_for_users'}, 'type': 'function'}], 'refusal': None}, response_metadata={'token_usage': {'completion_tokens': 21, 'prompt_tokens': 75, 'total_tokens': 96, 'completion_tokens_details': {'accepted_prediction_tokens': 0, 'audio_tokens': 0, 'reasoning_tokens': 0, 'rejected_prediction_tokens': 0}, 'prompt_tokens_details': {'audio_tokens': 0, 'cached_tokens': 0}}, 'model_name': 'gpt-4o-mini-2024-07-18', 'system_fingerprint': 'fp_72ed7ab54c', 'finish_reason': 'tool_calls', 'logprobs': None}, id='run-0c468d3a-f866-462e-bb30-db8345ce4241-0', tool_calls=[{'name': 'get_messages_for_users', 'args': {'usernames': ['davidrag']}, 'id': 'call_wUbr1wXhkGkdbX981sd42xL4', 'type': 'tool_call'}], usage_metadata={'input_tokens': 75, 'output_tokens': 21, 'total_tokens': 96, 'input_token_details': {'audio': 0, 'cache_read': 0}, 'output_token_details': {'audio': 0, 'reasoning': 0}}),\n",
       "  ToolMessage(content='Error: AttributeError(\"\\'DataLayer\\' object has no attribute \\'get_messages_for_users\\'\")\\n Please fix your mistakes.', name='get_messages_for_users', id='ab60ead3-1298-4577-8009-3e98c5103d67', tool_call_id='call_wUbr1wXhkGkdbX981sd42xL4', status='error'),\n",
       "  AIMessage(content=\"It seems there was an error while trying to retrieve messages for the user 'davidrag'. Let me attempt to get that information again.\", additional_kwargs={'tool_calls': [{'id': 'call_aBAI65JxSdtyc2OB6OIxYw3B', 'function': {'arguments': '{\"usernames\":[\"davidrag\"]}', 'name': 'get_messages_for_users'}, 'type': 'function'}], 'refusal': None}, response_metadata={'token_usage': {'completion_tokens': 51, 'prompt_tokens': 128, 'total_tokens': 179, 'completion_tokens_details': {'accepted_prediction_tokens': 0, 'audio_tokens': 0, 'reasoning_tokens': 0, 'rejected_prediction_tokens': 0}, 'prompt_tokens_details': {'audio_tokens': 0, 'cached_tokens': 0}}, 'model_name': 'gpt-4o-mini-2024-07-18', 'system_fingerprint': 'fp_bd83329f63', 'finish_reason': 'tool_calls', 'logprobs': None}, id='run-71335582-9658-4e58-b81c-5ca108ef0d34-0', tool_calls=[{'name': 'get_messages_for_users', 'args': {'usernames': ['davidrag']}, 'id': 'call_aBAI65JxSdtyc2OB6OIxYw3B', 'type': 'tool_call'}], usage_metadata={'input_tokens': 128, 'output_tokens': 51, 'total_tokens': 179, 'input_token_details': {'audio': 0, 'cache_read': 0}, 'output_token_details': {'audio': 0, 'reasoning': 0}}),\n",
       "  ToolMessage(content='Error: AttributeError(\"\\'DataLayer\\' object has no attribute \\'get_messages_for_users\\'\")\\n Please fix your mistakes.', name='get_messages_for_users', id='b5bccf05-a640-4799-814d-46ffeb1e6492', tool_call_id='call_aBAI65JxSdtyc2OB6OIxYw3B', status='error'),\n",
       "  AIMessage(content=\"It appears there's a persistent issue with retrieving messages for the user 'davidrag'. Unfortunately, I'm unable to access the messages at the moment. \\n\\nIf there's anything else you need or if you have another question, feel free to ask!\", additional_kwargs={'refusal': None}, response_metadata={'token_usage': {'completion_tokens': 50, 'prompt_tokens': 213, 'total_tokens': 263, 'completion_tokens_details': {'accepted_prediction_tokens': 0, 'audio_tokens': 0, 'reasoning_tokens': 0, 'rejected_prediction_tokens': 0}, 'prompt_tokens_details': {'audio_tokens': 0, 'cached_tokens': 0}}, 'model_name': 'gpt-4o-mini-2024-07-18', 'system_fingerprint': 'fp_72ed7ab54c', 'finish_reason': 'stop', 'logprobs': None}, id='run-0c57f1ba-d9e4-401a-bda3-0f957002c4fe-0', usage_metadata={'input_tokens': 213, 'output_tokens': 50, 'total_tokens': 263, 'input_token_details': {'audio': 0, 'cache_read': 0}, 'output_token_details': {'audio': 0, 'reasoning': 0}})]}"
      ]
     },
     "execution_count": 150,
     "metadata": {},
     "output_type": "execute_result"
    }
   ],
   "source": [
    "app.invoke(\n",
    "    {\"messages\": [HumanMessage(content=\"Hey, can you check the messages for the user 'davidrag' and tell me what he's working on?\")]},\n",
    "    config={\"configurable\": {\"thread_id\": 42}}\n",
    ")\n"
   ]
  },
  {
   "cell_type": "code",
   "execution_count": null,
   "metadata": {},
   "outputs": [],
   "source": []
  }
 ],
 "metadata": {
  "kernelspec": {
   "display_name": "simple_chat",
   "language": "python",
   "name": "python3"
  },
  "language_info": {
   "codemirror_mode": {
    "name": "ipython",
    "version": 3
   },
   "file_extension": ".py",
   "mimetype": "text/x-python",
   "name": "python",
   "nbconvert_exporter": "python",
   "pygments_lexer": "ipython3",
   "version": "3.12.3"
  }
 },
 "nbformat": 4,
 "nbformat_minor": 2
}
